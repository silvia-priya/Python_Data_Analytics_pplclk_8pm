{
 "cells": [
  {
   "cell_type": "code",
   "execution_count": 1,
   "id": "d5ccd0e2-bb80-4860-a453-0d37a61eb74c",
   "metadata": {},
   "outputs": [
    {
     "name": "stdout",
     "output_type": "stream",
     "text": [
      "Welcome to first session on data analytics\n"
     ]
    }
   ],
   "source": [
    "print(\"Welcome to first session on data analytics\")"
   ]
  },
  {
   "cell_type": "code",
   "execution_count": 2,
   "id": "80a76980-f6b0-42fe-b651-093a5aa74fcc",
   "metadata": {},
   "outputs": [
    {
     "name": "stdout",
     "output_type": "stream",
     "text": [
      "priya\n"
     ]
    }
   ],
   "source": [
    "name=\"priya\"\n",
    "print(name)"
   ]
  },
  {
   "cell_type": "code",
   "execution_count": 3,
   "id": "44a6d5d3-3604-4a49-a7ed-dd27cbbf573c",
   "metadata": {},
   "outputs": [
    {
     "name": "stdout",
     "output_type": "stream",
     "text": [
      "1678361656128\n"
     ]
    }
   ],
   "source": [
    "print(id(name))"
   ]
  },
  {
   "cell_type": "code",
   "execution_count": 4,
   "id": "da5511d3-4b58-4662-80eb-cf6f23c819e3",
   "metadata": {},
   "outputs": [
    {
     "name": "stdout",
     "output_type": "stream",
     "text": [
      "1678347829488\n"
     ]
    }
   ],
   "source": [
    "name=\"anu\"\n",
    "print(id(name))"
   ]
  },
  {
   "cell_type": "code",
   "execution_count": 5,
   "id": "45a43c3b-3ce0-46e1-ae10-5d25831e74a2",
   "metadata": {},
   "outputs": [
    {
     "name": "stdout",
     "output_type": "stream",
     "text": [
      "100\n"
     ]
    }
   ],
   "source": [
    "no=100\n",
    "print(no)"
   ]
  },
  {
   "cell_type": "code",
   "execution_count": 6,
   "id": "2caf8b23-3a9e-472d-9bdb-ee5030675439",
   "metadata": {},
   "outputs": [
    {
     "name": "stdout",
     "output_type": "stream",
     "text": [
      "140709726240776\n"
     ]
    }
   ],
   "source": [
    "print(id(no))"
   ]
  },
  {
   "cell_type": "code",
   "execution_count": 8,
   "id": "e5a101c1-0e2e-467d-b4f6-2729c0bcb7d2",
   "metadata": {},
   "outputs": [
    {
     "name": "stdout",
     "output_type": "stream",
     "text": [
      "140709726243976\n"
     ]
    }
   ],
   "source": [
    "#numbers are immutable - you cannot change the value in the same memory reference\n",
    "\n",
    "no=200 #when you change the value, the memory reference also changes\n",
    "print(id(no)) "
   ]
  },
  {
   "cell_type": "code",
   "execution_count": 15,
   "id": "a5e8e6d7-d260-4538-a515-14a4f804bbb9",
   "metadata": {},
   "outputs": [
    {
     "name": "stdout",
     "output_type": "stream",
     "text": [
      "(100, 'hello', 90.345, 'python')\n",
      "1678400559664\n"
     ]
    }
   ],
   "source": [
    "#tuple\n",
    "tuple1=(100,\"hello\",90.345,\"python\")\n",
    "print(tuple1)\n",
    "print(id(tuple1))\n"
   ]
  },
  {
   "cell_type": "code",
   "execution_count": 17,
   "id": "4f60259b-1c48-4d56-a8c6-963014f3205c",
   "metadata": {},
   "outputs": [
    {
     "name": "stdout",
     "output_type": "stream",
     "text": [
      "100\n",
      "python\n"
     ]
    }
   ],
   "source": [
    "#indexing -- 0...n-1 where n is the number of elements inside the tuple\n",
    "#n is the number of elements inside the tuple.. 4 .. 0 to 3 \n",
    "\n",
    "print(tuple1[0]) #first element\n",
    "print(tuple1[-1]) #first element from back(right side)"
   ]
  },
  {
   "cell_type": "code",
   "execution_count": 18,
   "id": "e9cfa7d2-077c-4c73-b7cf-11521c40c6e2",
   "metadata": {},
   "outputs": [
    {
     "ename": "TypeError",
     "evalue": "'tuple' object does not support item assignment",
     "output_type": "error",
     "traceback": [
      "\u001b[1;31m---------------------------------------------------------------------------\u001b[0m",
      "\u001b[1;31mTypeError\u001b[0m                                 Traceback (most recent call last)",
      "Cell \u001b[1;32mIn[18], line 1\u001b[0m\n\u001b[1;32m----> 1\u001b[0m tuple1[\u001b[38;5;241m0\u001b[39m]\u001b[38;5;241m=\u001b[39m\u001b[38;5;241m200\u001b[39m\n\u001b[0;32m      2\u001b[0m \u001b[38;5;28mprint\u001b[39m(tuple1)\n\u001b[0;32m      3\u001b[0m \u001b[38;5;28mprint\u001b[39m(\u001b[38;5;28mid\u001b[39m(tuple1))\n",
      "\u001b[1;31mTypeError\u001b[0m: 'tuple' object does not support item assignment"
     ]
    }
   ],
   "source": [
    "tuple1[0]=200\n",
    "print(tuple1)\n",
    "print(id(tuple1))"
   ]
  },
  {
   "cell_type": "code",
   "execution_count": 19,
   "id": "f35636ac-43e3-4006-9a94-94f5f2688896",
   "metadata": {},
   "outputs": [
    {
     "name": "stdout",
     "output_type": "stream",
     "text": [
      "('welcome', 'to', 'python')\n",
      "1678400464320\n"
     ]
    }
   ],
   "source": [
    "tuple1=(\"welcome\",\"to\",\"python\")\n",
    "print(tuple1)\n",
    "print(id(tuple1))\n"
   ]
  },
  {
   "cell_type": "code",
   "execution_count": 21,
   "id": "dad671f9-9a61-4af4-b1f4-0a216dcbe739",
   "metadata": {},
   "outputs": [
    {
     "name": "stdout",
     "output_type": "stream",
     "text": [
      "[10, 100, 'python', 'analytics']\n",
      "1678400920064\n"
     ]
    }
   ],
   "source": [
    "list1=[10,100,\"python\",\"analytics\"]\n",
    "print(list1)\n",
    "print(id(list1))"
   ]
  },
  {
   "cell_type": "code",
   "execution_count": 23,
   "id": "5f1d6433-6d95-4f84-aa4a-52972782c7a8",
   "metadata": {},
   "outputs": [
    {
     "name": "stdout",
     "output_type": "stream",
     "text": [
      "analytics\n"
     ]
    }
   ],
   "source": [
    "print(list1[-1])"
   ]
  },
  {
   "cell_type": "code",
   "execution_count": 24,
   "id": "c8e3ec78-ab95-4c0a-8133-9b676ffb1ea6",
   "metadata": {},
   "outputs": [
    {
     "name": "stdout",
     "output_type": "stream",
     "text": [
      "[9807, 100, 'python', 'analytics']\n",
      "1678400920064\n"
     ]
    }
   ],
   "source": [
    "list1[0]=9807\n",
    "print(list1)\n",
    "print(id(list1))"
   ]
  },
  {
   "cell_type": "code",
   "execution_count": 26,
   "id": "801affbf-7ef1-4f27-93a5-0456d7ed7760",
   "metadata": {},
   "outputs": [
    {
     "name": "stdout",
     "output_type": "stream",
     "text": [
      "{89.57, 100, 'python'}\n",
      "1678387801760\n"
     ]
    }
   ],
   "source": [
    "set1={100,\"python\",89.57,100,\"python\"}\n",
    "print(set1)\n",
    "print(id(set1))\n",
    "#the duplicate elements are removed\n",
    "#order is not preserved."
   ]
  },
  {
   "cell_type": "code",
   "execution_count": 27,
   "id": "54bea91a-8a42-4559-bae0-8f1d0777aab9",
   "metadata": {},
   "outputs": [
    {
     "ename": "TypeError",
     "evalue": "'set' object does not support item assignment",
     "output_type": "error",
     "traceback": [
      "\u001b[1;31m---------------------------------------------------------------------------\u001b[0m",
      "\u001b[1;31mTypeError\u001b[0m                                 Traceback (most recent call last)",
      "Cell \u001b[1;32mIn[27], line 1\u001b[0m\n\u001b[1;32m----> 1\u001b[0m set1[\u001b[38;5;241m0\u001b[39m]\u001b[38;5;241m=\u001b[39m\u001b[38;5;124m\"\u001b[39m\u001b[38;5;124mhi\u001b[39m\u001b[38;5;124m\"\u001b[39m\n\u001b[0;32m      2\u001b[0m \u001b[38;5;28mprint\u001b[39m(set1)\n",
      "\u001b[1;31mTypeError\u001b[0m: 'set' object does not support item assignment"
     ]
    }
   ],
   "source": [
    "set1[0]=\"hi\"\n",
    "print(set1)"
   ]
  },
  {
   "cell_type": "code",
   "execution_count": 28,
   "id": "6364bd5a-5413-4aa7-9dad-866dc0456963",
   "metadata": {},
   "outputs": [
    {
     "name": "stdout",
     "output_type": "stream",
     "text": [
      "{'learning', 'sets', 'you', 'are'}\n",
      "1678387799744\n"
     ]
    }
   ],
   "source": [
    "set1={\"you\",\"are\",\"learning\",\"sets\"}\n",
    "print(set1)\n",
    "print(id(set1))"
   ]
  },
  {
   "cell_type": "code",
   "execution_count": null,
   "id": "5a649e70-620a-4f47-b9e0-544df675ea6f",
   "metadata": {},
   "outputs": [],
   "source": []
  }
 ],
 "metadata": {
  "kernelspec": {
   "display_name": "Python 3 (ipykernel)",
   "language": "python",
   "name": "python3"
  },
  "language_info": {
   "codemirror_mode": {
    "name": "ipython",
    "version": 3
   },
   "file_extension": ".py",
   "mimetype": "text/x-python",
   "name": "python",
   "nbconvert_exporter": "python",
   "pygments_lexer": "ipython3",
   "version": "3.13.5"
  }
 },
 "nbformat": 4,
 "nbformat_minor": 5
}
