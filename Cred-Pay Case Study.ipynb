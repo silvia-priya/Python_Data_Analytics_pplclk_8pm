{
 "cells": [
  {
   "cell_type": "markdown",
   "id": "1de8ef97",
   "metadata": {},
   "source": [
    "## **Cred-Pay Case Study**"
   ]
  },
  {
   "cell_type": "markdown",
   "id": "3e74a400",
   "metadata": {},
   "source": [
    "### Problem Definition"
   ]
  },
  {
   "cell_type": "markdown",
   "id": "6f85ab06",
   "metadata": {},
   "source": [
    "### **Business Context**\n",
    "\n",
    "**Cred-Pay** is a consultation firm that partners with banks and checks if their customers are eligible for a credit card. They are a startup just at the roots of starting their business. They have partnered with a few banks and are currently collecting data for credit card applications.\n",
    "\n",
    "\n",
    "### **Objective**\n",
    "You have been hired as a Data Analyst to handle and organize the data. You are responsible to organise the data so that, it will be easily accessible and help the company predict, if the application can be accepted for a credit card or not.\n",
    "\n",
    "#### **Solution Approach**\n",
    "You have tried to understand how the credit card works and what all factors come into play. You can organize the data so that the company can help banks to provide credit cards to the customers. You have considered some features related to credit card applications. Some of them are Customer ID, Credit score, age of customer, debt status, and the number of existing credit cards.\n",
    "\n",
    "Following is the data that you have extracted and listed down, Let's try to build it into data that can be easily accessible and we can gain some insights from it.\n",
    "\n",
    "| cid | credit_score | age_of_customer | debt_status| no_of_existing_credit_cards|\n",
    "| --- | --- | --- | --- | --- |\n",
    "| cid-0001 | 650 | 25 | in-debt | 3 |\n",
    "| cid-0002 | 723 | 28 | no debt | 2 |\n",
    "| cid-0003 | 581 | 38 | no-debt | 4 |\n",
    "| cid-0004 | 462 | 41 | in-debt | 1 |\n",
    "| cid-0005 | 773 | 62 | no-debt | 2 |"
   ]
  },
  {
   "cell_type": "markdown",
   "id": "a9341bbd",
   "metadata": {},
   "source": [
    "## **1.0 Organizing data in appropriate format**"
   ]
  },
  {
   "cell_type": "markdown",
   "id": "aecd1d7b",
   "metadata": {},
   "source": [
    "### **1.1 Storing customer details as variables**"
   ]
  },
  {
   "cell_type": "code",
   "execution_count": 2,
   "id": "ad860810",
   "metadata": {},
   "outputs": [
    {
     "name": "stdout",
     "output_type": "stream",
     "text": [
      "The Customer ID of the first customer is cid-0001\n"
     ]
    }
   ],
   "source": [
    "#Let's start with storing the information in the form of variables and try to work with them.\n",
    "# Let's try to create a variable to store a feature **customerid**\n",
    "\n",
    "cid = 'cid-0001' #  a variable is created with name cid and a value is stored as cid-0001 in the variable\n",
    "print('The Customer ID of the first customer is',cid) #to display the value of the variable or a statement"
   ]
  },
  {
   "cell_type": "code",
   "execution_count": 3,
   "id": "c809a8d9",
   "metadata": {},
   "outputs": [],
   "source": [
    "# Creating multiple variables to store unique customer id\n",
    "cid1 = 'cid-0001'\n",
    "cid2 = 'cid-0002'\n",
    "cid3 = 'cid-0003'\n",
    "cid4 = 'cid-0004'\n",
    "cid5 = 'cid-0005'"
   ]
  },
  {
   "cell_type": "markdown",
   "id": "8f25b4fc",
   "metadata": {},
   "source": [
    "**What are Variables ?**\n",
    "\n",
    ">Variables are used to store any type of data.\n",
    "* A variable name must start with a letter or the underscore character\n",
    "* A variable name cannot start with a number\n",
    "* A variable name can only contain alpha-numeric characters and underscores (A-z, 0-9, and _)\n",
    "* Variable names are case-sensitive (age, Age and AGE are three different variables)"
   ]
  },
  {
   "cell_type": "markdown",
   "id": "007fdf8b",
   "metadata": {},
   "source": [
    "### **1.2 Organizing and querying the data**"
   ]
  },
  {
   "cell_type": "markdown",
   "id": "e0ef1511",
   "metadata": {},
   "source": [
    "**What is a List?**\n",
    "> A list in Python is an ordered group of items or elements which are stored in a single variable.\n",
    "\n",
    "**How do we define a list?**\n",
    "> Lists are created using square brackets, and the elements are separated by commas.\n",
    "```\n",
    "list_name = [element1, element2,...., element_n]"
   ]
  },
  {
   "cell_type": "code",
   "execution_count": 4,
   "id": "7af0c99b",
   "metadata": {},
   "outputs": [
    {
     "name": "stdout",
     "output_type": "stream",
     "text": [
      "Customer ID: ['cid-0001', 'cid-0002', 'cid-0003', 'cid-0004', 'cid-0005']\n"
     ]
    }
   ],
   "source": [
    "cid = ['cid-0001', 'cid-0002', 'cid-0003', 'cid-0004', 'cid-0005'] # elements of lists are seperated by comma\n",
    "\n",
    "## Let's print the list to see if this works\n",
    "print(\"Customer ID:\",cid)"
   ]
  },
  {
   "cell_type": "code",
   "execution_count": 5,
   "id": "02aece03",
   "metadata": {},
   "outputs": [],
   "source": [
    "credit_score = [650, 723, 581, 462, 773]   # list for storing credit score\n",
    "age_of_customer = [25, 28, 38, 41, 62]     # list for storing age of the customer\n",
    "debt_status = ['no-debt', 'no-debt', 'no-debt', 'in-debt', 'no-debt']  # list to store the debt status\n",
    "no_of_existing_credit_cards = [3, 2, 4, 1, 2] # list to store the number of existing credit cards"
   ]
  },
  {
   "cell_type": "code",
   "execution_count": 6,
   "id": "f054bd3c",
   "metadata": {},
   "outputs": [
    {
     "name": "stdout",
     "output_type": "stream",
     "text": [
      "Customer ID: ['cid-0001', 'cid-0002', 'cid-0003', 'cid-0004', 'cid-0005']\n",
      "Credit Score: [650, 723, 581, 462, 773]\n",
      "Age of Customer: [25, 28, 38, 41, 62]\n",
      "Debt Status: ['no-debt', 'no-debt', 'no-debt', 'in-debt', 'no-debt']\n",
      "Number of existing Credit Cards: [3, 2, 4, 1, 2]\n"
     ]
    }
   ],
   "source": [
    "#Let's print all the features stored as list\n",
    "print(\"Customer ID:\", cid)\n",
    "print(\"Credit Score:\", credit_score)\n",
    "print(\"Age of Customer:\", age_of_customer)\n",
    "print(\"Debt Status:\", debt_status)\n",
    "print(\"Number of existing Credit Cards:\", no_of_existing_credit_cards)"
   ]
  },
  {
   "cell_type": "markdown",
   "id": "4b9e091d",
   "metadata": {},
   "source": [
    "**How are Lists indexed?**\n",
    "> List items are ordered and their indexing starts from 0 from beginning.\n",
    "Let's say the elements stored in the index are a, b, c and d. Then the index will be as follows.\n",
    "\n",
    "![index.png](data:image/png;base64,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)\n"
   ]
  },
  {
   "cell_type": "code",
   "execution_count": 7,
   "id": "0c1f31de",
   "metadata": {},
   "outputs": [
    {
     "name": "stdout",
     "output_type": "stream",
     "text": [
      "1\n"
     ]
    }
   ],
   "source": [
    "## To get data of cid-0002 we need to first find the index of the same.\n",
    "pos = cid.index('cid-0002') # index() is used to fetch the index of the value mentioned\n",
    "print(pos)                  # Printing the index of 'cid-0002'"
   ]
  },
  {
   "cell_type": "code",
   "execution_count": 8,
   "id": "bd1414ef",
   "metadata": {},
   "outputs": [
    {
     "name": "stdout",
     "output_type": "stream",
     "text": [
      "cid-0002\n",
      "723\n",
      "28\n",
      "no-debt\n",
      "2\n"
     ]
    }
   ],
   "source": [
    "## Now that we know the index, let's call the value stored at the index for all the lists.\n",
    "print(cid[pos])\n",
    "print(credit_score[pos])\n",
    "print(age_of_customer[pos])\n",
    "print(debt_status[pos])\n",
    "print(no_of_existing_credit_cards[pos])"
   ]
  },
  {
   "cell_type": "code",
   "execution_count": 9,
   "id": "8c8268c3",
   "metadata": {},
   "outputs": [],
   "source": [
    "#Let's first find the index of cid-0001\n",
    "pos = cid.index('cid-0001')     #saving the index of cid-001 in pos"
   ]
  },
  {
   "cell_type": "code",
   "execution_count": 10,
   "id": "e6c3af1c",
   "metadata": {},
   "outputs": [],
   "source": [
    "#Let's assign the updated status\n",
    "debt_status[pos] = 'in-debt'    #updating debt_status for the index variable pos"
   ]
  },
  {
   "cell_type": "code",
   "execution_count": 11,
   "id": "47bb31dd",
   "metadata": {},
   "outputs": [
    {
     "data": {
      "text/plain": [
       "['in-debt', 'no-debt', 'no-debt', 'in-debt', 'no-debt']"
      ]
     },
     "execution_count": 11,
     "metadata": {},
     "output_type": "execute_result"
    }
   ],
   "source": [
    "debt_status                     #printing the list of debt status"
   ]
  },
  {
   "cell_type": "markdown",
   "id": "c3b0c795",
   "metadata": {},
   "source": [
    "### **1.3 Updating customer data based on conditions**"
   ]
  },
  {
   "cell_type": "markdown",
   "id": "5ba5857f",
   "metadata": {},
   "source": [
    "We recently got an update from Cred-Pay that we need to update the credit score of all users.\n",
    "The Credit score is calculated based on 4 factors,\n",
    "\n",
    "1.   Payment History(High impact)\n",
    "2.   Credit Utilisation Ratio(High impact)\n",
    "3.   Age of the Credit(Medium impact)\n",
    "4.   Total Accounts(Low impact)\n",
    "\n",
    "Since Payment History has a huge impact on the Credit Score we have to update the score based on the user's history of on-time payment.\n",
    "\n",
    "For this, first, we have to create a list called **prec_on_time**, which stores the percentage of on-time payments done by the user. If a user's prec_on_time is **greater than 0.7**, then we have to increase their credit score by **2%**.\n",
    "\n",
    "Let's also print the customerid for those, whose credit score will be updated. Let's try this out."
   ]
  },
  {
   "cell_type": "code",
   "execution_count": 12,
   "id": "c2b88e5d",
   "metadata": {},
   "outputs": [],
   "source": [
    "# Let's first create the list prec_on_time\n",
    "# Assume that the below random numbers is the on-time payment percentage\n",
    "prec_on_time = [0.62, 0.78, 0.20, 0.32, 0.85]"
   ]
  },
  {
   "cell_type": "markdown",
   "id": "7bfbbf63",
   "metadata": {},
   "source": [
    "Now, since we want to increase the credit score by 2%, we will first check if the prec_on_time value is greater than 0.7. We can do this with the help of conditional statements."
   ]
  },
  {
   "cell_type": "markdown",
   "id": "e9ae1171",
   "metadata": {},
   "source": [
    "**What are Conditional Statements?**\n",
    "\n",
    "> Conditional statements are an important part of decision-making in Python. Results are generated for the satisfied condition.\n",
    "\n",
    "**If Else Conditional Statement**\n",
    "\n",
    "> The if-else statement in Python is used for decision-making. The general syntax of an if-else statement is:\n",
    "```\n",
    " if (test expression):\n",
    "    Body of if\n",
    " else:\n",
    "    Body of else\n",
    " ```\n",
    ">It contains a body of code which runs only when the condition given in the if statement is true. If the condition is false, then the optional else statement runs which contains some code for the else condition.\n"
   ]
  },
  {
   "cell_type": "code",
   "execution_count": 13,
   "id": "2969bce5",
   "metadata": {},
   "outputs": [
    {
     "name": "stdout",
     "output_type": "stream",
     "text": [
      "Credit Score is same for cid-0001\n",
      "Credit Score updated for cid-0002\n",
      "Credit Score is same for cid-0003\n",
      "Credit Score is same for cid-0004\n",
      "Credit Score updated for cid-0005\n"
     ]
    }
   ],
   "source": [
    "if prec_on_time[0] > 0.7:\n",
    "    credit_score[0] = round(credit_score[0] * 1.02)   #adding 2% will be equal to 1+0.02 = 1.02\n",
    "    print('Credit Score updated for cid-0001')\n",
    "else:\n",
    "    print('Credit Score is same for cid-0001')\n",
    "\n",
    "if prec_on_time[1]>0.7:\n",
    "    credit_score[1] = round(credit_score[1] * 1.02)\n",
    "    print('Credit Score updated for cid-0002')\n",
    "else:\n",
    "    print('Credit Score is same for cid-0002')\n",
    "\n",
    "if prec_on_time[2]>0.7:\n",
    "    credit_score[2] = round(credit_score[2] * 1.02)\n",
    "    print('Credit Score updated for cid-0003')\n",
    "else:\n",
    "    print('Credit Score is same for cid-0003')\n",
    "\n",
    "if prec_on_time[3]>0.7:\n",
    "    credit_score[3] = round(credit_score[3] * 1.02)\n",
    "    print('Credit Score updated for cid-0004')\n",
    "else:\n",
    "    print('Credit Score is same for cid-0004')\n",
    "\n",
    "if prec_on_time[4]>0.7:\n",
    "    credit_score[4] = round(credit_score[4] * 1.02)\n",
    "    print('Credit Score updated for cid-0005')\n",
    "else:\n",
    "    print('Credit Score is same for cid-0005')"
   ]
  },
  {
   "cell_type": "code",
   "execution_count": 14,
   "id": "ba6e84c8",
   "metadata": {},
   "outputs": [
    {
     "data": {
      "text/plain": [
       "[650, 737, 581, 462, 788]"
      ]
     },
     "execution_count": 14,
     "metadata": {},
     "output_type": "execute_result"
    }
   ],
   "source": [
    "credit_score"
   ]
  },
  {
   "cell_type": "markdown",
   "id": "685a9632",
   "metadata": {},
   "source": [
    "Great we can see the credit score is updated for cid-0002 and cid-0005. This worked since we had only 5 users but it will be very time consuming and repetitive if we have many users. We should find a better way of coding that allows us to iterate through the list more easily.\n",
    "\n",
    "Let's say, we have to reduce the credit score for those users whose prec_on_time is less than 40% by 2%"
   ]
  },
  {
   "cell_type": "markdown",
   "id": "0321a3e0",
   "metadata": {},
   "source": [
    "To avoid repetition of code we will use Looping Statements\n",
    "\n",
    "**What are Looping Statements?**\n",
    "\n",
    "> Loops are used in Python to iterate over a sequence.\n",
    "\n",
    "**What are the different types of loops in Python?**\n",
    "\n",
    "*   For Loop\n",
    "*   While Loop\n",
    "\n",
    "**For Loop**\n",
    "\n",
    "The syntax of the 'for loop' is:\n",
    "\n",
    "```\n",
    "for iterator_var in sequence:\n",
    "    statements(s)\n",
    "```\n",
    "**While Loop**\n",
    "The syntax of the 'for loop' is:\n",
    "```\n",
    "while condition:\n",
    "    statement(s)\n",
    "```\n",
    "\n",
    "We will use for loop in this case"
   ]
  },
  {
   "cell_type": "code",
   "execution_count": 15,
   "id": "e8d8089e",
   "metadata": {},
   "outputs": [
    {
     "name": "stdout",
     "output_type": "stream",
     "text": [
      "Credit Score is same for cid-0001\n",
      "Credit Score is same for cid-0002\n",
      "Credit Score updated for cid-0003\n",
      "Credit Score updated for cid-0004\n",
      "Credit Score is same for cid-0005\n"
     ]
    }
   ],
   "source": [
    "for i in range(0,5):\n",
    "    if prec_on_time[i] <0.4:\n",
    "        credit_score[i] = round(credit_score[i] * .98)   #subtracting 2% will be equal to 1-0.02 = 0.98\n",
    "        print('Credit Score updated for',cid[i])\n",
    "    else:\n",
    "        print('Credit Score is same for',cid[i])"
   ]
  },
  {
   "cell_type": "markdown",
   "id": "1b9279cd",
   "metadata": {},
   "source": [
    "**Let's find out how many people have credit score greater than 700?**"
   ]
  },
  {
   "cell_type": "code",
   "execution_count": 16,
   "id": "8a9d2e66",
   "metadata": {},
   "outputs": [
    {
     "name": "stdout",
     "output_type": "stream",
     "text": [
      "Number of people having credit score greater than 700: 2\n"
     ]
    }
   ],
   "source": [
    "# Initialize counter to increment the customer count\n",
    "count = 0\n",
    "\n",
    "for i in range(0,len(cid)):\n",
    "    if credit_score[i]>700:\n",
    "        count +=1 # Incrementing count counter by 1 when the credit score is greater than 700\n",
    "\n",
    "print('Number of people having credit score greater than 700:',count)"
   ]
  },
  {
   "cell_type": "markdown",
   "id": "cfaf5eb0",
   "metadata": {},
   "source": [
    "**Can we check How many people have more than 2 credit cards?**"
   ]
  },
  {
   "cell_type": "code",
   "execution_count": 17,
   "id": "70f52e89",
   "metadata": {},
   "outputs": [
    {
     "name": "stdout",
     "output_type": "stream",
     "text": [
      "Number of people having more than 2 credit cards: 2\n"
     ]
    }
   ],
   "source": [
    "# Initialize counter to increment the customer count\n",
    "count = 0\n",
    "\n",
    "for i in range(0,len(cid)):\n",
    "     if no_of_existing_credit_cards[i]>2:\n",
    "        count +=1 # Incrementing count counter by 1 when number of credit cards are greater than 2\n",
    "print('Number of people having more than 2 credit cards:',count)"
   ]
  },
  {
   "cell_type": "markdown",
   "id": "9e90d798",
   "metadata": {},
   "source": [
    "**Can we count how many people are in debt and how many are in not debt ?**"
   ]
  },
  {
   "cell_type": "markdown",
   "id": "29535f40",
   "metadata": {},
   "source": [
    "**Try to print all the information of customer whose customer id = cid-0002**"
   ]
  },
  {
   "cell_type": "markdown",
   "id": "c5504205",
   "metadata": {},
   "source": [
    "### **1.4 Modular way of updating data**"
   ]
  },
  {
   "cell_type": "markdown",
   "id": "2cfd845a",
   "metadata": {},
   "source": [
    "**What is a Function in Python?**\n",
    "\n",
    ">In Python, a function is a block of instructions that performs a specific task.\n",
    "\n",
    "**Why to use Functions?**\n",
    ">Functions break the program into modular chunks which can be reused later. Functions are used to make the program more organized and manageable.\n",
    "\n",
    "**How do we create a Function?**\n",
    "\n",
    "The syntax for the function is:\n",
    "```\n",
    "def function_name(parameters):\n",
    "\tstatement(s)\n",
    "  return statement\n",
    "```\n",
    "An optional return statement is used to return value(s) from the function.\n",
    "\n",
    "**What are parameters in Functions?**\n",
    ">Parameters are variables through which we pass values to a function. Parameters are optional for function definition."
   ]
  },
  {
   "cell_type": "code",
   "execution_count": 18,
   "id": "e3bf88e9",
   "metadata": {},
   "outputs": [],
   "source": [
    "def customer_info(c_id): # def(keyword) is used to define a function followed by the function name and parameters\n",
    "    for i in range(0,len(cid)): # setting up a for loop to iterate through all the customer id's\n",
    "        if cid[i] == c_id:\n",
    "            print('---------------------------------------------------------------------')\n",
    "            print( 'Customer ID:',cid[i])\n",
    "            print( 'Credit Score:',credit_score[i])\n",
    "            print( 'Age of the Customer:',age_of_customer[i])\n",
    "            print( 'Debt Status:',debt_status[i])\n",
    "            print( 'Number of existing Credit Cards:',no_of_existing_credit_cards[i])\n"
   ]
  },
  {
   "cell_type": "markdown",
   "id": "2268f5d7",
   "metadata": {},
   "source": [
    "**Print the details of Customer whose id is 'cid-0001'**"
   ]
  },
  {
   "cell_type": "code",
   "execution_count": 19,
   "id": "352d3aeb",
   "metadata": {},
   "outputs": [
    {
     "name": "stdout",
     "output_type": "stream",
     "text": [
      "---------------------------------------------------------------------\n",
      "Customer ID: cid-0001\n",
      "Credit Score: 650\n",
      "Age of the Customer: 25\n",
      "Debt Status: in-debt\n",
      "Number of existing Credit Cards: 3\n"
     ]
    }
   ],
   "source": [
    "customer_info('cid-0001') # Calling the above defined function"
   ]
  },
  {
   "cell_type": "markdown",
   "id": "99c04fad",
   "metadata": {},
   "source": [
    "**Print the details of Customer whose id is 'cid-0002'**"
   ]
  },
  {
   "cell_type": "code",
   "execution_count": 20,
   "id": "ecce7dd9",
   "metadata": {},
   "outputs": [
    {
     "name": "stdout",
     "output_type": "stream",
     "text": [
      "---------------------------------------------------------------------\n",
      "Customer ID: cid-0002\n",
      "Credit Score: 737\n",
      "Age of the Customer: 28\n",
      "Debt Status: no-debt\n",
      "Number of existing Credit Cards: 2\n"
     ]
    }
   ],
   "source": [
    "customer_info('cid-0002')"
   ]
  },
  {
   "cell_type": "markdown",
   "id": "98f6b838",
   "metadata": {},
   "source": [
    "### **1.5 Combining all the data into a single data element**"
   ]
  },
  {
   "cell_type": "code",
   "execution_count": 21,
   "id": "1102505b",
   "metadata": {},
   "outputs": [],
   "source": [
    "# dictionary is created with key and value pairs\n",
    "df1 = {\n",
    "    'cust_id': cid,\n",
    "    'cred_score': credit_score,\n",
    "    'age': age_of_customer,\n",
    "    'debt_status':debt_status,\n",
    "    'curr_cred_cards':no_of_existing_credit_cards\n",
    "}"
   ]
  },
  {
   "cell_type": "code",
   "execution_count": 22,
   "id": "01350891",
   "metadata": {},
   "outputs": [
    {
     "data": {
      "text/plain": [
       "{'cust_id': ['cid-0001', 'cid-0002', 'cid-0003', 'cid-0004', 'cid-0005'],\n",
       " 'cred_score': [650, 737, 569, 453, 788],\n",
       " 'age': [25, 28, 38, 41, 62],\n",
       " 'debt_status': ['in-debt', 'no-debt', 'no-debt', 'in-debt', 'no-debt'],\n",
       " 'curr_cred_cards': [3, 2, 4, 1, 2]}"
      ]
     },
     "execution_count": 22,
     "metadata": {},
     "output_type": "execute_result"
    }
   ],
   "source": [
    "df1 # printing the dictionary"
   ]
  },
  {
   "cell_type": "code",
   "execution_count": 23,
   "id": "ade60b35",
   "metadata": {},
   "outputs": [
    {
     "data": {
      "text/plain": [
       "['cid-0001', 'cid-0002', 'cid-0003', 'cid-0004', 'cid-0005']"
      ]
     },
     "execution_count": 23,
     "metadata": {},
     "output_type": "execute_result"
    }
   ],
   "source": [
    "df1['cust_id'] # fetch all the values under the key 'cust_id'"
   ]
  },
  {
   "cell_type": "code",
   "execution_count": 24,
   "id": "5e79673e",
   "metadata": {},
   "outputs": [
    {
     "data": {
      "text/plain": [
       "'cid-0003'"
      ]
     },
     "execution_count": 24,
     "metadata": {},
     "output_type": "execute_result"
    }
   ],
   "source": [
    "df1['cust_id'][2] # to fetch the 3rd element in the list 'cust_id'"
   ]
  },
  {
   "cell_type": "code",
   "execution_count": 25,
   "id": "39bd457c",
   "metadata": {},
   "outputs": [
    {
     "name": "stdout",
     "output_type": "stream",
     "text": [
      "cust_id cid-0004\n",
      "cred_score 453\n",
      "age 41\n",
      "debt_status in-debt\n",
      "curr_cred_cards 1\n"
     ]
    }
   ],
   "source": [
    "#Let's get all the information for the Customer whose id is 'cid-0004'**\n",
    "\n",
    "#We can do this by iterating the index for a fixed list index. We can achieve that with **items()** method.\n",
    "\n",
    "for key, value in df1.items():  # Iterating through all the keys of dictionary, with values index as constant\n",
    "    print(key ,value[3])"
   ]
  },
  {
   "cell_type": "markdown",
   "id": "90a19d5b",
   "metadata": {},
   "source": [
    "## **2.0 Getting data into a convenient structure**"
   ]
  },
  {
   "cell_type": "markdown",
   "id": "e28f9f4c",
   "metadata": {},
   "source": [
    "**What is the Pandas Library?**\n",
    "\n",
    "Pandas is an open-source Python Library providing high-performance data manipulation and analysis tools using its powerful data structures. It is fast, flexible, and expressive data structure designed to make working with 'numerical' or 'categorical' data both easy and intuitive. It aims to be the fundamental high-level building block for doing practical, real world data analysis in Python.\n",
    "\n",
    "**Why do we use Pandas?**\n",
    "- Used for analyzing, cleaning, exploring, and manipulating data.\n",
    "\n",
    "- Pandas allows us to analyze big data and make conclusions.\n",
    "\n",
    "- It is an important library in data science to get insights from data\n",
    "<img src=\"https://www.w3resource.com/w3r_images/pandas-data-structure.svg\" />"
   ]
  },
  {
   "cell_type": "markdown",
   "id": "3062b54e",
   "metadata": {},
   "source": [
    "### **2.1 Converting the dictionary into a pandas dataframe**"
   ]
  },
  {
   "cell_type": "code",
   "execution_count": 27,
   "id": "8cc108ce",
   "metadata": {},
   "outputs": [
    {
     "data": {
      "text/html": [
       "<div>\n",
       "<style scoped>\n",
       "    .dataframe tbody tr th:only-of-type {\n",
       "        vertical-align: middle;\n",
       "    }\n",
       "\n",
       "    .dataframe tbody tr th {\n",
       "        vertical-align: top;\n",
       "    }\n",
       "\n",
       "    .dataframe thead th {\n",
       "        text-align: right;\n",
       "    }\n",
       "</style>\n",
       "<table border=\"1\" class=\"dataframe\">\n",
       "  <thead>\n",
       "    <tr style=\"text-align: right;\">\n",
       "      <th></th>\n",
       "      <th>cust_id</th>\n",
       "      <th>cred_score</th>\n",
       "      <th>age</th>\n",
       "      <th>debt_status</th>\n",
       "      <th>curr_cred_cards</th>\n",
       "    </tr>\n",
       "  </thead>\n",
       "  <tbody>\n",
       "    <tr>\n",
       "      <th>0</th>\n",
       "      <td>cid-0001</td>\n",
       "      <td>650</td>\n",
       "      <td>25</td>\n",
       "      <td>in-debt</td>\n",
       "      <td>3</td>\n",
       "    </tr>\n",
       "    <tr>\n",
       "      <th>1</th>\n",
       "      <td>cid-0002</td>\n",
       "      <td>737</td>\n",
       "      <td>28</td>\n",
       "      <td>no-debt</td>\n",
       "      <td>2</td>\n",
       "    </tr>\n",
       "    <tr>\n",
       "      <th>2</th>\n",
       "      <td>cid-0003</td>\n",
       "      <td>569</td>\n",
       "      <td>38</td>\n",
       "      <td>no-debt</td>\n",
       "      <td>4</td>\n",
       "    </tr>\n",
       "    <tr>\n",
       "      <th>3</th>\n",
       "      <td>cid-0004</td>\n",
       "      <td>453</td>\n",
       "      <td>41</td>\n",
       "      <td>in-debt</td>\n",
       "      <td>1</td>\n",
       "    </tr>\n",
       "    <tr>\n",
       "      <th>4</th>\n",
       "      <td>cid-0005</td>\n",
       "      <td>788</td>\n",
       "      <td>62</td>\n",
       "      <td>no-debt</td>\n",
       "      <td>2</td>\n",
       "    </tr>\n",
       "  </tbody>\n",
       "</table>\n",
       "</div>"
      ],
      "text/plain": [
       "    cust_id  cred_score  age debt_status  curr_cred_cards\n",
       "0  cid-0001         650   25     in-debt                3\n",
       "1  cid-0002         737   28     no-debt                2\n",
       "2  cid-0003         569   38     no-debt                4\n",
       "3  cid-0004         453   41     in-debt                1\n",
       "4  cid-0005         788   62     no-debt                2"
      ]
     },
     "execution_count": 27,
     "metadata": {},
     "output_type": "execute_result"
    }
   ],
   "source": [
    "import pandas as pd\n",
    "# Dataframe can be created by using the function pd.Dataframe\n",
    "df = pd.DataFrame(df1)\n",
    "df"
   ]
  },
  {
   "cell_type": "markdown",
   "id": "79a1bc5e",
   "metadata": {},
   "source": [
    "### **2.2 Accessing and analysing the data**"
   ]
  },
  {
   "cell_type": "code",
   "execution_count": 28,
   "id": "702b6ddb",
   "metadata": {},
   "outputs": [
    {
     "data": {
      "text/html": [
       "<div>\n",
       "<style scoped>\n",
       "    .dataframe tbody tr th:only-of-type {\n",
       "        vertical-align: middle;\n",
       "    }\n",
       "\n",
       "    .dataframe tbody tr th {\n",
       "        vertical-align: top;\n",
       "    }\n",
       "\n",
       "    .dataframe thead th {\n",
       "        text-align: right;\n",
       "    }\n",
       "</style>\n",
       "<table border=\"1\" class=\"dataframe\">\n",
       "  <thead>\n",
       "    <tr style=\"text-align: right;\">\n",
       "      <th></th>\n",
       "      <th>cust_id</th>\n",
       "      <th>cred_score</th>\n",
       "      <th>age</th>\n",
       "      <th>debt_status</th>\n",
       "      <th>curr_cred_cards</th>\n",
       "    </tr>\n",
       "  </thead>\n",
       "  <tbody>\n",
       "    <tr>\n",
       "      <th>0</th>\n",
       "      <td>cid-0001</td>\n",
       "      <td>650</td>\n",
       "      <td>25</td>\n",
       "      <td>in-debt</td>\n",
       "      <td>3</td>\n",
       "    </tr>\n",
       "    <tr>\n",
       "      <th>1</th>\n",
       "      <td>cid-0002</td>\n",
       "      <td>737</td>\n",
       "      <td>28</td>\n",
       "      <td>no-debt</td>\n",
       "      <td>2</td>\n",
       "    </tr>\n",
       "    <tr>\n",
       "      <th>2</th>\n",
       "      <td>cid-0003</td>\n",
       "      <td>569</td>\n",
       "      <td>38</td>\n",
       "      <td>no-debt</td>\n",
       "      <td>4</td>\n",
       "    </tr>\n",
       "  </tbody>\n",
       "</table>\n",
       "</div>"
      ],
      "text/plain": [
       "    cust_id  cred_score  age debt_status  curr_cred_cards\n",
       "0  cid-0001         650   25     in-debt                3\n",
       "1  cid-0002         737   28     no-debt                2\n",
       "2  cid-0003         569   38     no-debt                4"
      ]
     },
     "execution_count": 28,
     "metadata": {},
     "output_type": "execute_result"
    }
   ],
   "source": [
    "# let's print top 3 data entries\n",
    "df.head(3) # without any value inside the brackets, it will print the top 5 entries of the data"
   ]
  },
  {
   "cell_type": "code",
   "execution_count": 29,
   "id": "b053350d",
   "metadata": {},
   "outputs": [
    {
     "data": {
      "text/html": [
       "<div>\n",
       "<style scoped>\n",
       "    .dataframe tbody tr th:only-of-type {\n",
       "        vertical-align: middle;\n",
       "    }\n",
       "\n",
       "    .dataframe tbody tr th {\n",
       "        vertical-align: top;\n",
       "    }\n",
       "\n",
       "    .dataframe thead th {\n",
       "        text-align: right;\n",
       "    }\n",
       "</style>\n",
       "<table border=\"1\" class=\"dataframe\">\n",
       "  <thead>\n",
       "    <tr style=\"text-align: right;\">\n",
       "      <th></th>\n",
       "      <th>cred_score</th>\n",
       "      <th>age</th>\n",
       "      <th>curr_cred_cards</th>\n",
       "    </tr>\n",
       "  </thead>\n",
       "  <tbody>\n",
       "    <tr>\n",
       "      <th>count</th>\n",
       "      <td>5.000000</td>\n",
       "      <td>5.000000</td>\n",
       "      <td>5.000000</td>\n",
       "    </tr>\n",
       "    <tr>\n",
       "      <th>mean</th>\n",
       "      <td>639.400000</td>\n",
       "      <td>38.800000</td>\n",
       "      <td>2.400000</td>\n",
       "    </tr>\n",
       "    <tr>\n",
       "      <th>std</th>\n",
       "      <td>133.623725</td>\n",
       "      <td>14.584238</td>\n",
       "      <td>1.140175</td>\n",
       "    </tr>\n",
       "    <tr>\n",
       "      <th>min</th>\n",
       "      <td>453.000000</td>\n",
       "      <td>25.000000</td>\n",
       "      <td>1.000000</td>\n",
       "    </tr>\n",
       "    <tr>\n",
       "      <th>25%</th>\n",
       "      <td>569.000000</td>\n",
       "      <td>28.000000</td>\n",
       "      <td>2.000000</td>\n",
       "    </tr>\n",
       "    <tr>\n",
       "      <th>50%</th>\n",
       "      <td>650.000000</td>\n",
       "      <td>38.000000</td>\n",
       "      <td>2.000000</td>\n",
       "    </tr>\n",
       "    <tr>\n",
       "      <th>75%</th>\n",
       "      <td>737.000000</td>\n",
       "      <td>41.000000</td>\n",
       "      <td>3.000000</td>\n",
       "    </tr>\n",
       "    <tr>\n",
       "      <th>max</th>\n",
       "      <td>788.000000</td>\n",
       "      <td>62.000000</td>\n",
       "      <td>4.000000</td>\n",
       "    </tr>\n",
       "  </tbody>\n",
       "</table>\n",
       "</div>"
      ],
      "text/plain": [
       "       cred_score        age  curr_cred_cards\n",
       "count    5.000000   5.000000         5.000000\n",
       "mean   639.400000  38.800000         2.400000\n",
       "std    133.623725  14.584238         1.140175\n",
       "min    453.000000  25.000000         1.000000\n",
       "25%    569.000000  28.000000         2.000000\n",
       "50%    650.000000  38.000000         2.000000\n",
       "75%    737.000000  41.000000         3.000000\n",
       "max    788.000000  62.000000         4.000000"
      ]
     },
     "execution_count": 29,
     "metadata": {},
     "output_type": "execute_result"
    }
   ],
   "source": [
    "# Let's create statistical summary\n",
    "df.describe()"
   ]
  },
  {
   "cell_type": "code",
   "execution_count": 30,
   "id": "5cf3bbbc",
   "metadata": {},
   "outputs": [
    {
     "data": {
      "text/plain": [
       "(5, 5)"
      ]
     },
     "execution_count": 30,
     "metadata": {},
     "output_type": "execute_result"
    }
   ],
   "source": [
    "# To get the dimension of the data we use shape, that returns a tuple with number of rows and columns\n",
    "df.shape"
   ]
  },
  {
   "cell_type": "code",
   "execution_count": 31,
   "id": "599ef281",
   "metadata": {},
   "outputs": [
    {
     "name": "stdout",
     "output_type": "stream",
     "text": [
      "<class 'pandas.core.frame.DataFrame'>\n",
      "RangeIndex: 5 entries, 0 to 4\n",
      "Data columns (total 5 columns):\n",
      " #   Column           Non-Null Count  Dtype \n",
      "---  ------           --------------  ----- \n",
      " 0   cust_id          5 non-null      object\n",
      " 1   cred_score       5 non-null      int64 \n",
      " 2   age              5 non-null      int64 \n",
      " 3   debt_status      5 non-null      object\n",
      " 4   curr_cred_cards  5 non-null      int64 \n",
      "dtypes: int64(3), object(2)\n",
      "memory usage: 332.0+ bytes\n"
     ]
    }
   ],
   "source": [
    "# To get the information about the number of columns, rows datatype and memory usage we use info function\n",
    "df.info()"
   ]
  },
  {
   "cell_type": "code",
   "execution_count": null,
   "id": "23aa76ed",
   "metadata": {},
   "outputs": [],
   "source": []
  }
 ],
 "metadata": {
  "kernelspec": {
   "display_name": "Python 3 (ipykernel)",
   "language": "python",
   "name": "python3"
  },
  "language_info": {
   "codemirror_mode": {
    "name": "ipython",
    "version": 3
   },
   "file_extension": ".py",
   "mimetype": "text/x-python",
   "name": "python",
   "nbconvert_exporter": "python",
   "pygments_lexer": "ipython3",
   "version": "3.11.5"
  }
 },
 "nbformat": 4,
 "nbformat_minor": 5
}
